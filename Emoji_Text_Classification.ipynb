{
  "cells": [
    {
      "cell_type": "code",
      "execution_count": 76,
      "metadata": {
        "id": "W0fRhhSYOSRR"
      },
      "outputs": [],
      "source": [
        "import tensorflow as tf\n",
        "import numpy as np\n",
        "import pandas as pd"
      ]
    },
    {
      "cell_type": "code",
      "execution_count": 77,
      "metadata": {
        "id": "E_5nQre7M7tl"
      },
      "outputs": [],
      "source": [
        "def read_csv(file_path):\n",
        "    df = pd.read_csv(file_path)\n",
        "    X = np.array(df[\"sentence\"])\n",
        "    Y = np.array(df[\"label\"], dtype=int)\n",
        "    return X, Y"
      ]
    },
    {
      "cell_type": "code",
      "execution_count": 78,
      "metadata": {
        "id": "G2Soo-pzM_oM"
      },
      "outputs": [],
      "source": [
        "X_train, Y_train = read_csv(\"/content/dataset/train.csv\")\n",
        "X_test, Y_test = read_csv(\"/content/dataset/test.csv\")"
      ]
    },
    {
      "cell_type": "code",
      "execution_count": 79,
      "metadata": {
        "colab": {
          "base_uri": "https://localhost:8080/"
        },
        "id": "oZW2xzPQNBjc",
        "outputId": "dcc02c41-139f-4970-8c08-a45dc36c76b5"
      },
      "outputs": [
        {
          "data": {
            "text/plain": [
              "('congratulations on your acceptance', np.int64(2))"
            ]
          },
          "execution_count": 79,
          "metadata": {},
          "output_type": "execute_result"
        }
      ],
      "source": [
        "index = 7\n",
        "X_train[index], Y_train[index]"
      ]
    },
    {
      "cell_type": "code",
      "execution_count": 80,
      "metadata": {
        "id": "YKziFEMRNEQ0"
      },
      "outputs": [],
      "source": [
        "def label_to_emoji(label):\n",
        "    emojies = [\"❤️\", \"⚾\", \"😀\", \"😔\", \"🍴\"]\n",
        "    return emojies[label]"
      ]
    },
    {
      "cell_type": "code",
      "execution_count": null,
      "metadata": {
        "colab": {
          "base_uri": "https://localhost:8080/"
        },
        "id": "PTSJGySqOout",
        "outputId": "20150a0d-ff01-4180-9ddc-9e36c4bba483"
      },
      "outputs": [
        {
          "data": {
            "text/plain": [
              "('congratulations on your acceptance', '😀')"
            ]
          },
          "execution_count": 11,
          "metadata": {},
          "output_type": "execute_result"
        }
      ],
      "source": [
        "index = 7\n",
        "X_train[index], label_to_emoji(Y_train[index])"
      ]
    },
    {
      "cell_type": "code",
      "execution_count": null,
      "metadata": {
        "colab": {
          "base_uri": "https://localhost:8080/"
        },
        "id": "DBBz4IunP7H8",
        "outputId": "d5fff5dc-ffa4-4b78-b3df-534ba6335c07"
      },
      "outputs": [
        {
          "data": {
            "text/plain": [
              "array([3, 2, 3, 0, 4, 0, 3, 2, 3, 1, 3, 3, 1, 3, 2, 3, 2, 3, 1, 2, 3, 0,\n",
              "       2, 2, 2, 1, 4, 2, 2, 4, 0, 3, 4, 2, 0, 3, 2, 2, 3, 4, 2, 2, 0, 2,\n",
              "       3, 0, 3, 2, 4, 3, 0, 3, 3, 3, 4, 2, 1, 1, 1, 2, 3, 1, 0, 0, 0, 3,\n",
              "       4, 4, 2, 2, 1, 2, 0, 3, 2, 2, 0, 0, 3, 1, 2, 1, 2, 2, 4, 3, 3, 2,\n",
              "       4, 0, 0, 0, 3, 3, 3, 2, 0, 1, 2, 3, 0, 2, 2, 2, 3, 2, 2, 2, 4, 1,\n",
              "       1, 3, 3, 4, 1, 2, 1, 1, 3, 1, 0, 4, 0, 3, 3, 4, 4, 1, 4, 3, 0, 2])"
            ]
          },
          "execution_count": 12,
          "metadata": {},
          "output_type": "execute_result"
        }
      ],
      "source": [
        "Y_train"
      ]
    },
    {
      "cell_type": "code",
      "execution_count": null,
      "metadata": {
        "colab": {
          "base_uri": "https://localhost:8080/"
        },
        "id": "Vx-BEawzQC00",
        "outputId": "28dc4a8a-0f47-422a-a5c7-dc8b195b8c33"
      },
      "outputs": [
        {
          "data": {
            "text/plain": [
              "array([0, 1, 2, 3, 4])"
            ]
          },
          "execution_count": 13,
          "metadata": {},
          "output_type": "execute_result"
        }
      ],
      "source": [
        "np.unique(Y_train)"
      ]
    },
    {
      "cell_type": "code",
      "execution_count": null,
      "metadata": {
        "colab": {
          "base_uri": "https://localhost:8080/"
        },
        "id": "7rKrVfSDTtFD",
        "outputId": "86c80731-342b-4ac9-caf3-52a90ad27ea7"
      },
      "outputs": [
        {
          "data": {
            "text/plain": [
              "5"
            ]
          },
          "execution_count": 14,
          "metadata": {},
          "output_type": "execute_result"
        }
      ],
      "source": [
        "len(np.unique(Y_train))"
      ]
    },
    {
      "cell_type": "code",
      "execution_count": null,
      "metadata": {
        "colab": {
          "base_uri": "https://localhost:8080/"
        },
        "id": "jDJg2-OWUFer",
        "outputId": "72ad2406-fc22-4f2a-d3a1-4a3518e549d8"
      },
      "outputs": [
        {
          "name": "stdout",
          "output_type": "stream",
          "text": [
            "[0 1 2 3 4]\n",
            "[22 19 38 36 17]\n"
          ]
        }
      ],
      "source": [
        "unique, counts = np.unique(Y_train, return_counts=True)\n",
        "print(unique)\n",
        "print(counts)"
      ]
    },
    {
      "cell_type": "code",
      "execution_count": null,
      "metadata": {
        "colab": {
          "base_uri": "https://localhost:8080/",
          "height": 35
        },
        "id": "87upab_SY0Gr",
        "outputId": "e9d6051a-d7f3-4807-8498-3a8377642d0f"
      },
      "outputs": [
        {
          "data": {
            "application/vnd.google.colaboratory.intrinsic+json": {
              "type": "string"
            },
            "text/plain": [
              "'I am so impressed by your dedication to this project'"
            ]
          },
          "execution_count": 16,
          "metadata": {},
          "output_type": "execute_result"
        }
      ],
      "source": [
        "max(X_train, key=len)"
      ]
    },
    {
      "cell_type": "code",
      "execution_count": null,
      "metadata": {
        "colab": {
          "base_uri": "https://localhost:8080/"
        },
        "id": "UUgY97iUY-ki",
        "outputId": "27170359-3471-4953-fef4-e401c426c3f5"
      },
      "outputs": [
        {
          "data": {
            "text/plain": [
              "['I',\n",
              " 'am',\n",
              " 'so',\n",
              " 'impressed',\n",
              " 'by',\n",
              " 'your',\n",
              " 'dedication',\n",
              " 'to',\n",
              " 'this',\n",
              " 'project']"
            ]
          },
          "execution_count": 17,
          "metadata": {},
          "output_type": "execute_result"
        }
      ],
      "source": [
        "max(X_train, key=len).split(\" \")"
      ]
    },
    {
      "cell_type": "code",
      "execution_count": null,
      "metadata": {
        "colab": {
          "base_uri": "https://localhost:8080/"
        },
        "id": "xMlNyz2RZJ7q",
        "outputId": "4849d6db-0adb-4744-ced7-1462735dc09a"
      },
      "outputs": [
        {
          "data": {
            "text/plain": [
              "10"
            ]
          },
          "execution_count": 18,
          "metadata": {},
          "output_type": "execute_result"
        }
      ],
      "source": [
        "max_len = len(max(X_train, key=len).split(\" \"))\n",
        "max_len"
      ]
    },
    {
      "cell_type": "code",
      "execution_count": null,
      "metadata": {
        "colab": {
          "base_uri": "https://localhost:8080/"
        },
        "id": "NdZFMwmKQw7Z",
        "outputId": "9882986e-b43c-4592-8534-f86c323bba86"
      },
      "outputs": [
        {
          "name": "stdout",
          "output_type": "stream",
          "text": [
            "--2025-05-11 07:35:03--  https://nlp.stanford.edu/data/glove.6B.zip\n",
            "Resolving nlp.stanford.edu (nlp.stanford.edu)... 171.64.67.140\n",
            "Connecting to nlp.stanford.edu (nlp.stanford.edu)|171.64.67.140|:443... connected.\n",
            "HTTP request sent, awaiting response... 301 Moved Permanently\n",
            "Location: https://downloads.cs.stanford.edu/nlp/data/glove.6B.zip [following]\n",
            "--2025-05-11 07:35:03--  https://downloads.cs.stanford.edu/nlp/data/glove.6B.zip\n",
            "Resolving downloads.cs.stanford.edu (downloads.cs.stanford.edu)... 171.64.64.22\n",
            "Connecting to downloads.cs.stanford.edu (downloads.cs.stanford.edu)|171.64.64.22|:443... connected.\n",
            "HTTP request sent, awaiting response... 200 OK\n",
            "Length: 862182613 (822M) [application/zip]\n",
            "Saving to: ‘glove.6B.zip’\n",
            "\n",
            "glove.6B.zip        100%[===================>] 822.24M  5.01MB/s    in 2m 38s  \n",
            "\n",
            "2025-05-11 07:37:42 (5.19 MB/s) - ‘glove.6B.zip’ saved [862182613/862182613]\n",
            "\n"
          ]
        }
      ],
      "source": [
        "!wget https://nlp.stanford.edu/data/glove.6B.zip"
      ]
    },
    {
      "cell_type": "code",
      "execution_count": null,
      "metadata": {
        "id": "4woaAGFaRuiU"
      },
      "outputs": [],
      "source": [
        "!unzip -q glove.6B.zip -d glove.6B"
      ]
    },
    {
      "cell_type": "code",
      "execution_count": null,
      "metadata": {
        "id": "59Q2lPz6ga8W"
      },
      "outputs": [],
      "source": [
        "f = open(\"/content/glove.6B/glove.6B.50d.txt\", encoding=\"utf-8\")\n",
        "\n",
        "word_vectors = {}\n",
        "for line in f:\n",
        "    line = line.strip().split()\n",
        "    word = line[0]\n",
        "    vector = np.array(line[1:], dtype=np.float64)\n",
        "    word_vectors[word] = vector"
      ]
    },
    {
      "cell_type": "code",
      "execution_count": null,
      "metadata": {
        "colab": {
          "base_uri": "https://localhost:8080/"
        },
        "id": "j5uxb0mD2lYq",
        "outputId": "1e828a83-fb17-409c-cbfb-919ff65e9e0f"
      },
      "outputs": [
        {
          "data": {
            "text/plain": [
              "array([-0.13886  ,  1.1401   , -0.85212  , -0.29212  ,  0.75534  ,\n",
              "        0.82762  , -0.3181   ,  0.0072204, -0.34762  ,  1.0731   ,\n",
              "       -0.24665  ,  0.97765  , -0.55835  , -0.090318 ,  0.83182  ,\n",
              "       -0.33317  ,  0.22648  ,  0.30913  ,  0.026929 , -0.086739 ,\n",
              "       -0.14703  ,  1.3543   ,  0.53695  ,  0.43735  ,  1.2749   ,\n",
              "       -1.4382   , -1.2815   , -0.15196  ,  1.0506   , -0.93644  ,\n",
              "        2.7561   ,  0.58967  , -0.29473  ,  0.27574  , -0.32928  ,\n",
              "       -0.201    , -0.28547  , -0.45987  , -0.14603  , -0.69372  ,\n",
              "        0.070761 , -0.19326  , -0.1855   , -0.16095  ,  0.24268  ,\n",
              "        0.20784  ,  0.030924 , -1.3711   , -0.28606  ,  0.2898   ])"
            ]
          },
          "execution_count": 24,
          "metadata": {},
          "output_type": "execute_result"
        }
      ],
      "source": [
        "word_vectors[\"love\"]"
      ]
    },
    {
      "cell_type": "code",
      "execution_count": null,
      "metadata": {
        "id": "b1PcNGTgWfyd"
      },
      "outputs": [],
      "source": [
        "def sentence_to_avg(sentence):\n",
        "    try:\n",
        "        sentence = sentence.lower()\n",
        "        words = sentence.strip().split(\" \")\n",
        "\n",
        "        sum_vectors = np.zeros((50, ))\n",
        "        for word in words:\n",
        "            sum_vectors += word_vectors[word]\n",
        "\n",
        "        avg_vector = sum_vectors / len(words)\n",
        "        return avg_vector\n",
        "    except:\n",
        "        print(sentence)\n",
        "        return None"
      ]
    },
    {
      "cell_type": "code",
      "execution_count": null,
      "metadata": {
        "colab": {
          "base_uri": "https://localhost:8080/"
        },
        "id": "I8oRe5qAZMeP",
        "outputId": "ae1dc607-dcdb-4797-9148-f1921a4f9111"
      },
      "outputs": [
        {
          "data": {
            "text/plain": [
              "array([ 0.21402   ,  0.24146912, -0.3219846 , -0.169208  ,  0.483176  ,\n",
              "        0.2192604 , -0.3905278 , -0.20376192, -0.497238  ,  0.51688151,\n",
              "        0.015846  ,  0.521284  , -0.351054  , -0.0542684 ,  0.5911438 ,\n",
              "        0.340718  ,  0.142232  ,  0.455954  , -0.05321598, -0.5421058 ,\n",
              "       -0.166728  ,  0.654546  ,  0.47333   ,  0.370588  ,  0.888124  ,\n",
              "       -1.438646  , -0.8024356 ,  0.260028  ,  0.775556  , -0.409289  ,\n",
              "        3.43296   ,  0.409712  , -0.0329154 , -0.326434  , -0.1459134 ,\n",
              "       -0.128366  , -0.1091386 ,  0.288342  , -0.198344  , -0.312754  ,\n",
              "        0.03890534,  0.1295664 , -0.317196  ,  0.346144  , -0.2118628 ,\n",
              "        0.1564436 ,  0.0284948 , -0.17581332, -0.294982  ,  0.748832  ])"
            ]
          },
          "execution_count": 27,
          "metadata": {},
          "output_type": "execute_result"
        }
      ],
      "source": [
        "sentence_to_avg(\"I love programming very much\")"
      ]
    },
    {
      "cell_type": "code",
      "execution_count": null,
      "metadata": {
        "id": "ZkMQ2iPcepDj"
      },
      "outputs": [],
      "source": [
        "X_train_avg = []\n",
        "\n",
        "for x_train in X_train:\n",
        "    X_train_avg.append(sentence_to_avg(x_train))\n",
        "\n",
        "X_train_avg = np.array(X_train_avg)"
      ]
    },
    {
      "cell_type": "code",
      "execution_count": null,
      "metadata": {
        "colab": {
          "base_uri": "https://localhost:8080/"
        },
        "id": "chllFo8txDRF",
        "outputId": "97658b71-caa5-4bd6-d5b4-bcfb09cd2ff3"
      },
      "outputs": [
        {
          "data": {
            "text/plain": [
              "(132, 50)"
            ]
          },
          "execution_count": 38,
          "metadata": {},
          "output_type": "execute_result"
        }
      ],
      "source": [
        "X_train_avg.shape"
      ]
    }
  ],
  "metadata": {
    "colab": {
      "provenance": []
    },
    "kernelspec": {
      "display_name": "Python 3",
      "name": "python3"
    },
    "language_info": {
      "name": "python"
    }
  },
  "nbformat": 4,
  "nbformat_minor": 0
}
